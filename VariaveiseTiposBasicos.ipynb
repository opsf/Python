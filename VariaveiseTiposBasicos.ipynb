{
  "nbformat": 4,
  "nbformat_minor": 0,
  "metadata": {
    "colab": {
      "name": "VariaveiseTiposBasicos.ipynb",
      "provenance": [],
      "collapsed_sections": [],
      "include_colab_link": true
    },
    "kernelspec": {
      "name": "python3",
      "display_name": "Python 3"
    }
  },
  "cells": [
    {
      "cell_type": "markdown",
      "metadata": {
        "id": "view-in-github",
        "colab_type": "text"
      },
      "source": [
        "<a href=\"https://colab.research.google.com/github/opsf/Python/blob/master/VariaveiseTiposBasicos.ipynb\" target=\"_parent\"><img src=\"https://colab.research.google.com/assets/colab-badge.svg\" alt=\"Open In Colab\"/></a>"
      ]
    },
    {
      "cell_type": "markdown",
      "metadata": {
        "id": "loR_frz_CDcH",
        "colab_type": "toc"
      },
      "source": [
        ">[Inserindo comentários](#scrollTo=jSorKBQbyCx0)\n",
        "\n",
        ">[Conceito de variável](#scrollTo=aT_ovdrAnhd-)\n",
        "\n",
        ">[Criação e atribuição de valor para uma variável](#scrollTo=V3g2vAyJ79KD)\n",
        "\n",
        ">[Impressão do conteúdo de uma variável](#scrollTo=FaPkSw3Jq8jF)\n",
        "\n",
        ">[Sobrescrevendo o valor de uma variável e tipos de variáveis](#scrollTo=cJakN_aZrbYZ)\n",
        "\n",
        ">[Obtendo o tipo básico de uma variável](#scrollTo=u2WxGpXFslfm)\n",
        "\n",
        ">[Conversão de tipos: float e int](#scrollTo=f8XtDNCvuXeZ)\n",
        "\n",
        ">[Conversão de tipos: int e float com str](#scrollTo=8DilJiUcvH8-)\n",
        "\n",
        ">[Operações com variáveis: float e int](#scrollTo=8vpzY7uu9roH)\n",
        "\n",
        ">[Operações com variáveis: str](#scrollTo=zJFyS_OO_845)\n",
        "\n",
        ">[Saída e Entrada de dados](#scrollTo=nxMB2iU25JVe)\n",
        "\n",
        ">[Entrada de dados numéricos e múltiplas saídas de dados](#scrollTo=c_htIKRD818c)\n",
        "\n",
        ">[Resumo desta seção](#scrollTo=nZ0Qj_M_z6ws)\n",
        "\n"
      ]
    },
    {
      "cell_type": "code",
      "metadata": {
        "id": "m5EpEF_ICMCC",
        "outputId": "d90dc5e3-1b0d-44b3-fb9b-c928e52d1a8a",
        "colab": {
          "base_uri": "https://localhost:8080/",
          "height": 102
        }
      },
      "source": [
        "# Se você entender tudo que está nesta célula, então, você não precisa ler o conteúdo desta seção.\n",
        "\n",
        "var_x1 = 10\n",
        "var_x2 = 11.0\n",
        "var_x3 = 'abra'\n",
        "var_x4 = '-te cesamo'\n",
        "res1   = 2*var_x1 + var_x2**(2-1)/var_x1\n",
        "var_x2 = int(res1/var_x2)\n",
        "var_x3 = var_x3 + var_x4\n",
        "\n",
        "print(\"res1 = \" + str(res1))\n",
        "print(\"type(res1) = \" + str(type(res1)))\n",
        "print(var_x2)\n",
        "print(var_x3)\n",
        "resul = \"var_x2 = %3.2f, var_x4 = %s\" % (var_x2, var_x4) \n",
        "print(resul)"
      ],
      "execution_count": null,
      "outputs": [
        {
          "output_type": "stream",
          "text": [
            "res1 = 21.1\n",
            "type(res1) = <class 'float'>\n",
            "1\n",
            "abra-te cesamo\n",
            "var_x2 = 1.00, var_x4 = -te cesamo\n"
          ],
          "name": "stdout"
        }
      ]
    },
    {
      "cell_type": "markdown",
      "metadata": {
        "id": "jSorKBQbyCx0"
      },
      "source": [
        "# 0. Inserindo comentários\n",
        "\n",
        "Em um programa de computador é útil a documentação do que está sendo criando. Para tanto, o símbolo **'#'** pode ser utilizado para que o texto subsequente não seja interpretado como um comando a ser executado, isto é, ser interpretado como um comentário."
      ]
    },
    {
      "cell_type": "code",
      "metadata": {
        "id": "snuOPtmRyjJm"
      },
      "source": [
        "# Este é apenas um comentário, portanto, se o botão com a setinha ao lado for pressionado não irá ocorrer nada."
      ],
      "execution_count": null,
      "outputs": []
    },
    {
      "cell_type": "markdown",
      "metadata": {
        "id": "aT_ovdrAnhd-"
      },
      "source": [
        "# 1. Conceito de variável\n",
        "\n",
        "Uma variável é um nome a partir do qual é possível fazer referência a um valor contido na memória do computador. Para criar uma variável em Python é necessário observar algumas regras:\n",
        "\n",
        "\n",
        "1. O nome da variável deve começar com uma letra ou o caractere '_';\n",
        "2. O nome da variável não pode começar com um número;\n",
        "3. O nome da variável só deve conter caracteres alfa-numéricos (A-z, 0-9) e o caractere **'_'**. O caractere **'_'** é usado para se evitar espaços para nomes compostos, isto é, usar **var_local** e não **var local**;\n",
        "4. Nomes de variáveis são sensíveis a maíusculas e minúsculas, isto é, var, Var, VAR são três nomes distintos de variáveis;\n",
        "5. Palavras reservadas de comandos da linguagem não devem ser utilizadas como nome de variáveis, isto é, **print**, **str**, **int**, **float**, **type**, dentre outros.\n",
        "\n"
      ]
    },
    {
      "cell_type": "markdown",
      "metadata": {
        "id": "V3g2vAyJ79KD"
      },
      "source": [
        "# 2. Criação e atribuição de valor para uma variável\n",
        "\n",
        "Para atribuir valores a uma variável basta utilizar o comando de atribuição dado por **'='**. Por exemplo, o comando **var = 1** faz 2 operações: cria a variável var e atribui para ela o valor inteiro 1. \n"
      ]
    },
    {
      "cell_type": "code",
      "metadata": {
        "id": "7n7mQXJbngKM",
        "outputId": "2f558da0-fe17-42e6-f5cb-f16bac4edf4e",
        "colab": {
          "base_uri": "https://localhost:8080/",
          "height": 34
        }
      },
      "source": [
        "# Mais detalhes em: https://www.w3schools.com/python/python_variables.asp\n",
        "\n",
        "var = 9\n",
        "var"
      ],
      "execution_count": null,
      "outputs": [
        {
          "output_type": "execute_result",
          "data": {
            "text/plain": [
              "9"
            ]
          },
          "metadata": {
            "tags": []
          },
          "execution_count": 1
        }
      ]
    },
    {
      "cell_type": "markdown",
      "metadata": {
        "id": "FaPkSw3Jq8jF"
      },
      "source": [
        "# 3. Impressão do conteúdo de uma variável\n",
        "\n",
        "Para imprimir o valor contido em uma variável basta utilizar o comando **print**. Esse comando é particularmente útil quando deseja-se imprimir o conteúdo de múltiplas variáveis."
      ]
    },
    {
      "cell_type": "code",
      "metadata": {
        "id": "Yu0JLKNmrccM",
        "outputId": "6d96a072-7e07-49dd-c79b-4985b528179a",
        "colab": {
          "base_uri": "https://localhost:8080/",
          "height": 51
        }
      },
      "source": [
        "Var = 10\n",
        "VAR = 11\n",
        "\n",
        "print(Var)\n",
        "print(VAR)"
      ],
      "execution_count": null,
      "outputs": [
        {
          "output_type": "stream",
          "text": [
            "10\n",
            "11\n"
          ],
          "name": "stdout"
        }
      ]
    },
    {
      "cell_type": "markdown",
      "metadata": {
        "id": "cJakN_aZrbYZ"
      },
      "source": [
        "# 4. Sobrescrevendo o valor de uma variável e tipos de variáveis\n",
        "\n",
        "As variáveis podem armazenar 3 tipos básicos e distintos de valores: inteiro (**int**), real (**float**), e palavra (**str**).\n",
        "\n",
        "O comando de atribuição permite que uma variável já criada receba um conteúdo diferente no valor e mesmo de outro tipo.\n",
        "\n",
        "Para o tipo **str** a atribuição de valor pode ser feita com **'palavra'** ou **\"palavra\"**."
      ]
    },
    {
      "cell_type": "code",
      "metadata": {
        "id": "NJtJUHVysZ1b",
        "outputId": "79cf0872-8e80-41a5-f797-203a1167d5d4",
        "colab": {
          "base_uri": "https://localhost:8080/",
          "height": 102
        }
      },
      "source": [
        "Var = 10\n",
        "print(Var)\n",
        "Var = 10.0\n",
        "print(Var)\n",
        "VAR = 11.0\n",
        "print(VAR)\n",
        "VAR = 'a'\n",
        "print(VAR)\n",
        "VAR2 = \"b\"\n",
        "print(VAR2)"
      ],
      "execution_count": null,
      "outputs": [
        {
          "output_type": "stream",
          "text": [
            "10\n",
            "10.0\n",
            "11.0\n",
            "a\n",
            "b\n"
          ],
          "name": "stdout"
        }
      ]
    },
    {
      "cell_type": "markdown",
      "metadata": {
        "id": "u2WxGpXFslfm"
      },
      "source": [
        "# 5. Obtendo o tipo básico de uma variável\n",
        "\n",
        "A definição do tipo da variável será realizada no momento em que for atribuído valor para ela. Para conferir qual o tipo da variável basta utilizar o comando **type**. Conjugando o comando **print** e **type** é possível imprimir o tipo de variável."
      ]
    },
    {
      "cell_type": "code",
      "metadata": {
        "id": "6o4vQbZ7s7V_",
        "outputId": "b678e6bf-2e26-46e4-a44c-434391f92937",
        "colab": {
          "base_uri": "https://localhost:8080/",
          "height": 119
        }
      },
      "source": [
        "var = 9\n",
        "Var = 10.0\n",
        "VAR = 'a'\n",
        "print(var)       # imprime o conteúdo da variável 'var'.\n",
        "print(type(var)) # imprime o tipo da variável 'var'.\n",
        "print(Var)\n",
        "print(type(Var))\n",
        "print(VAR)\n",
        "print(type(VAR))"
      ],
      "execution_count": null,
      "outputs": [
        {
          "output_type": "stream",
          "text": [
            "9\n",
            "<class 'int'>\n",
            "10.0\n",
            "<class 'float'>\n",
            "a\n",
            "<class 'str'>\n"
          ],
          "name": "stdout"
        }
      ]
    },
    {
      "cell_type": "markdown",
      "metadata": {
        "id": "f8XtDNCvuXeZ"
      },
      "source": [
        "# 6. Conversão de tipos: **float** e **int**\n",
        "\n",
        "Muitas vezes é útil realizar a conversão de tipos. \n",
        "\n",
        "Um exemplo é a soma de um tipo **int** com um tipo **float** cujo resultado será um tipo **float**. Ou ainda, a divisão de um tipo **int** por outro **int**, mas cujo resultado desejado é um **float**. Para este caso, o Python fará automaticamente essa conversão tanto do numerador quanto do denominador para o tipo **float** tal que o resultado será **float**. Essa **conversão automática** é chamada de **conversão implícita de tipo**. \n",
        "\n",
        "Um valor **int** pode ser convertido para **float** usando-se o comando **float(nome_variavel)**. Um valor **float** pode ser convertido para **int** usando-se o comando **int(nome_variavel)**. É possível converter o resultado de uma divisão de **float** para **int**. Neste caso, a parte decimal será truncada (eliminada)."
      ]
    },
    {
      "cell_type": "code",
      "metadata": {
        "id": "6GI6aLcAt1yS",
        "outputId": "6c9f66b0-8ffb-4add-fa61-9cfb37f861ea",
        "colab": {
          "base_uri": "https://localhost:8080/",
          "height": 68
        }
      },
      "source": [
        "var = 9\n",
        "Var = 10.0\n",
        "x1  = 2\n",
        "print(Var + var)    # Soma float + int = float\n",
        "print(var/x1)       # Conversão implícita: divisão int/int  = float/float = float\n",
        "print(int(var/x1))  # Conversão explícita: float -> int\n"
      ],
      "execution_count": null,
      "outputs": [
        {
          "output_type": "stream",
          "text": [
            "19.0\n",
            "4.5\n",
            "4\n"
          ],
          "name": "stdout"
        }
      ]
    },
    {
      "cell_type": "markdown",
      "metadata": {
        "id": "8DilJiUcvH8-"
      },
      "source": [
        "# 7. Conversão de tipos: **int** e **float** com **str**\n",
        "\n",
        "A conversão dos tipos **int** e **float** para **str** é útil para, por exemplo, realizar a impressão de números com texto. Para imprimir texto e valores com o comando **print** é necessário converter os números em texto através do comando **str(nome_da_variável)**."
      ]
    },
    {
      "cell_type": "code",
      "metadata": {
        "id": "8MIWROqUvckJ",
        "outputId": "8fbd3734-4177-43fa-ab6f-5ce96e6658a3",
        "colab": {
          "base_uri": "https://localhost:8080/",
          "height": 34
        }
      },
      "source": [
        "x1 = 2.0\n",
        "x2 = 'Texto aleatório' \n",
        "print(\"conteúdo de x1 = \" + str(x1) + \", conteúdo de x2 = \" + x2)"
      ],
      "execution_count": null,
      "outputs": [
        {
          "output_type": "stream",
          "text": [
            "conteúdo de x1 = 2.0, conteúdo de x2 = Texto aleatório\n"
          ],
          "name": "stdout"
        }
      ]
    },
    {
      "cell_type": "markdown",
      "metadata": {
        "id": "8vpzY7uu9roH"
      },
      "source": [
        "# 8. Operações com variáveis: float e int\n",
        "\n",
        "Operações de soma (+), subtração (-), multiplicação (\\*), divisão (/), e exponenciação (\\**) podem ser realizadas com variáveis. Seus resultados podem ser armazenadas em outras variáveis ou nas variáveis originais.\n",
        "\n",
        "**IMPORTANTE**: Nunca use uma variável sem ter atribuído valor a ela. \n",
        "\n",
        "Por exemplo, a sequência de comandos é válida:\n",
        "\n",
        "**var = 1**\n",
        "\n",
        "**var = var + 2**\n",
        "\n",
        "Porém, a seguinte sequência não é válida, pois não existe nenhum valor inicial contido em **var**:\n",
        "\n",
        "**var = var + 2**\n",
        "\n",
        "**var = 1**"
      ]
    },
    {
      "cell_type": "code",
      "metadata": {
        "id": "ITMJj0xG98o8",
        "outputId": "9485d1d3-c8b4-4ac3-fd89-8d05754a9561",
        "colab": {
          "base_uri": "https://localhost:8080/",
          "height": 68
        }
      },
      "source": [
        "x1 = 1\n",
        "x2 = 2\n",
        "x3 = 3\n",
        "x1 = 2*x2 + x3**2 \n",
        "x2 = (x3 - x1)/x3\n",
        "x3 = x3 - x2 - x1\n",
        "\n",
        "print(\"x1 = \" + str(x1))\n",
        "print(\"x2 = \" + str(x2))\n",
        "print(\"x3 = \" + str(x3))"
      ],
      "execution_count": null,
      "outputs": [
        {
          "output_type": "stream",
          "text": [
            "x1 = 13\n",
            "x2 = -3.3333333333333335\n",
            "x3 = -6.666666666666666\n"
          ],
          "name": "stdout"
        }
      ]
    },
    {
      "cell_type": "markdown",
      "metadata": {
        "id": "zJFyS_OO_845"
      },
      "source": [
        "# 9. Operações com variáveis: str\n",
        "\n",
        "Para variáveis do tipo **str** apenas a operação de soma (+) está definida e o resultado será a concatenação de letras contidas em cada variável."
      ]
    },
    {
      "cell_type": "code",
      "metadata": {
        "id": "zVxKWkefABp0",
        "outputId": "74584f17-952a-4ae8-c669-47ff361a1520",
        "colab": {
          "base_uri": "https://localhost:8080/",
          "height": 85
        }
      },
      "source": [
        "x1 = 'ab'\n",
        "x2 = 'bra'\n",
        "x3 = 'ca'\n",
        "x4 = 'draba'\n",
        "\n",
        "x1 = x1 + x2\n",
        "x2 = x3 + x2\n",
        "x3 = x1 + x3\n",
        "x4 = x3 + x4\n",
        "\n",
        "print(x1)\n",
        "print(x2)\n",
        "print(x3)\n",
        "print(x4)"
      ],
      "execution_count": null,
      "outputs": [
        {
          "output_type": "stream",
          "text": [
            "abbra\n",
            "cabra\n",
            "abbraca\n",
            "abbracadraba\n"
          ],
          "name": "stdout"
        }
      ]
    },
    {
      "cell_type": "markdown",
      "metadata": {
        "id": "nxMB2iU25JVe"
      },
      "source": [
        "# 10. Saída e Entrada de dados\n",
        "\n",
        "O comando **print** serve para mostrar o conteúdo de uma variável. É dito que este **comando realiza a saída de dados**, isto é, a **impressão** do conteúdo do valor de uma **variável**, que está na memória do computador, **para a tela do computador**. Existe um **outro comando** útil para realizar a **entrada de dados**, isto é, a partir do **teclado** do computador realizar a inserção de dados em uma **variável armazenada no computador**. É o comando **input**."
      ]
    },
    {
      "cell_type": "code",
      "metadata": {
        "id": "1IjyB5R_8BBo",
        "outputId": "00153055-9e5b-4740-d0bc-1288616af60f",
        "colab": {
          "base_uri": "https://localhost:8080/",
          "height": 136
        }
      },
      "source": [
        "var1 = input('Digite uma palavra: ')\n",
        "var2 = input('Digite um número: ')\n",
        "print(\"Conteúdo de var1 é: \" + var1)\n",
        "print(\"Conteúdo de var2 é: \" + var2)\n",
        "print(\"Obtendo os tipos de var1 e var2\")\n",
        "print(type(var1))\n",
        "print(type(var2))"
      ],
      "execution_count": null,
      "outputs": [
        {
          "output_type": "stream",
          "text": [
            "Digite uma palavra: nin\n",
            "Digite um número: 0\n",
            "Conteúdo de var1 é: nin\n",
            "Conteúdo de var2 é: 0\n",
            "Obtendo os tipos de var1 e var2\n",
            "<class 'str'>\n",
            "<class 'str'>\n"
          ],
          "name": "stdout"
        }
      ]
    },
    {
      "cell_type": "markdown",
      "metadata": {
        "id": "c_htIKRD818c"
      },
      "source": [
        "# 11. Entrada de dados numéricos e múltiplas saídas de dados\n",
        "\n",
        "\n",
        "* **Entrada de dados numéricos**:\n",
        "\n",
        "Como visto na subseção anterior, o comando **input** só realiza a leitura de valores do tipo **str**. Assim, para realizar operações matemáticas com os valores digitados deve-se realizar uma **conversão explícita** de valor, isto é, transformar o conteúdo da variável do tipo **str** para o tipo desejado. \n",
        "\n",
        "Por exemplo, para converter o conteúdo da variável var1 de **str** para **float** usa-se: **var1 = float(var1)**. Para converter var2 de **str** para **int** usa-se: **var2 = int(var2)**.\n",
        "\n",
        "* **Múltiplas saídas de dados**:\n",
        "\n",
        "Para misturar texto com o conteúdo das variáveis é necessário empregar caracteres especiais para impressão do conteúdo das variáveis: **%f** - imprime o conteúdo de uma variável tipo **float**; **%d** ou **%i** - imprime o conteúdo de uma variável tipo **int**; **%s** - imprime o conteúdo de uma variável tipo **str**. Além disso, é possível especificar o número de casas decimais e o total de espaço a ser destinado para a impressão do conteúdo. Por exemplo, **%5.2f** - imprime uma variável tipo **float** utilizando um espaçamento total de 5 caracteres sendo 2 reservados para a parte decimal do número.\n",
        "\n",
        "Uma lista completa dos símbolos e a quais tipos eles correspondem é dada por:\n",
        "\n",
        ">Símbolo | Tipo a ser impresso\n",
        ">--- | ---\n",
        ">s | string\n",
        ">d | inteiro\n",
        ">i | inteiro\n",
        ">f | real\n",
        ">c | caractere\n",
        ">b | binário\n",
        ">o | octal\n",
        ">x | hexadecimal com letras minúsculas após o 9\n",
        ">X | hexadecimal com letras maiúsculas após o 9\n",
        ">e | notação científica\n"
      ]
    },
    {
      "cell_type": "code",
      "metadata": {
        "id": "pQZP2cfE5_lb",
        "outputId": "fdfacff9-37a1-4b62-b351-75ffe66dcac7",
        "colab": {
          "base_uri": "https://localhost:8080/",
          "height": 68
        }
      },
      "source": [
        "a = input('Entre com um número: ')\n",
        "a = float(a)\n",
        "b = input('Entre com outro número: ')\n",
        "b = float(b)\n",
        "soma = a + b  # Convertendo conteúdo de a e b de str para float\n",
        "resultado = \"Resultado da soma de %10.2f com %8.2f é %4.2f\" % (a,b,soma)\n",
        "print(resultado)"
      ],
      "execution_count": null,
      "outputs": [
        {
          "output_type": "stream",
          "text": [
            "Entre com um número: 1\n",
            "Entre com outro número: 2\n",
            "Resultado da soma de       1.00 com     2.00 é 3.00\n"
          ],
          "name": "stdout"
        }
      ]
    },
    {
      "cell_type": "markdown",
      "metadata": {
        "id": "nZ0Qj_M_z6ws"
      },
      "source": [
        "# 11. Resumo desta seção\n",
        "\n",
        " * Variáveis são nomes que fazem referência a um valor armazenado na memória do computador; \n",
        " * Existem regras para criação de nomes de variáveis e no Python existe diferença entre maiúsculas e minúsculas. Não usar espaços para nomes compostos, isto é, usar **var_local** e não **var local**;\n",
        " * Variáveis podem ter atribuiçao de valor com o símbolo **'='**;\n",
        " * Variáveis podem ser de 3 tipos básicos: **float**, **int**, **str**.\n",
        " * Variáveis de diferentes tipos podem ser combinadas de acordo com a situação em questão;\n",
        " * É possível realizar operações matemáticas com variáveis do tipo **float**, **int**, e **str**. Para as duas primeiras valem as operações matemáticas de soma, subtração, multiplicação, divisão e exponenciação com os resultados correspondentes. Para a última, somente a operação de soma funciona e o resultado é a concatenação de palavras contidas nas variáveis envolvidas.\n",
        " * A entrada de dados via teclado pode usar o comando **input**. \n",
        " * A saída de múltiplos valores pode ser feita através da combinação de texto, os operadores **%f**, **%d** ou **%i**, **%s**, e os comandos **% (var1, var2)**."
      ]
    }
  ]
}